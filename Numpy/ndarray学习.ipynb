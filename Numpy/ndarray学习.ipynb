{
 "cells": [
  {
   "cell_type": "markdown",
   "id": "99f81d09-d0bd-4dc2-9b7c-d26f45b78e86",
   "metadata": {},
   "source": [
    "# 一、ndarray\n",
    "### 1.ndarray的特性\n",
    "### 多维性"
   ]
  },
  {
   "cell_type": "code",
   "execution_count": 2,
   "id": "20606e6c-eb08-45ab-b86a-f647b3f73352",
   "metadata": {},
   "outputs": [],
   "source": [
    "import numpy as np"
   ]
  },
  {
   "cell_type": "code",
   "execution_count": 4,
   "id": "a7589290-9927-4c29-b46c-2a812a1d113e",
   "metadata": {},
   "outputs": [
    {
     "name": "stdout",
     "output_type": "stream",
     "text": [
      "5\n",
      "arr的维度 0\n"
     ]
    }
   ],
   "source": [
    "arr = np.array(5) # 创建0维的数组\n",
    "print(arr)\n",
    "print('arr的维度', arr.ndim)"
   ]
  },
  {
   "cell_type": "code",
   "execution_count": 14,
   "id": "31a2ee96-028f-43ac-94b8-f5aa1dcd37b0",
   "metadata": {},
   "outputs": [
    {
     "name": "stdout",
     "output_type": "stream",
     "text": [
      "[1 2 3]\n",
      "arr的维度: 1\n"
     ]
    }
   ],
   "source": [
    "arr = np.array([1,2,3]) # 创建1维的数组\n",
    "print(arr)\n",
    "print('arr的维度:', arr.ndim)"
   ]
  },
  {
   "cell_type": "code",
   "execution_count": 13,
   "id": "02890783-44eb-4f72-b970-1140a6f0d57f",
   "metadata": {},
   "outputs": [
    {
     "name": "stdout",
     "output_type": "stream",
     "text": [
      "[[1 2 3]\n",
      " [4 5 6]]\n",
      "arr的维度: 2\n"
     ]
    }
   ],
   "source": [
    "arr = np.array([[1,2,3],[4,5,6]]) # 创建2维的数组\n",
    "print(arr)\n",
    "print('arr的维度:', arr.ndim)"
   ]
  },
  {
   "cell_type": "markdown",
   "id": "845d06b3-3ec8-43cc-b34c-3df0aed9e56e",
   "metadata": {},
   "source": [
    "### 同质性"
   ]
  },
  {
   "cell_type": "code",
   "execution_count": 16,
   "id": "39e5d383-58d3-4b4e-9bec-605b283e3d09",
   "metadata": {},
   "outputs": [
    {
     "name": "stdout",
     "output_type": "stream",
     "text": [
      "['1' 'hello']\n"
     ]
    }
   ],
   "source": [
    "arr = np.array([1,'hello']) # 不通类型的数据会被强制转换为同一种\n",
    "print(arr)"
   ]
  },
  {
   "cell_type": "code",
   "execution_count": 17,
   "id": "2af2505f-039c-4bc8-b88e-916a4f833bb6",
   "metadata": {},
   "outputs": [
    {
     "name": "stdout",
     "output_type": "stream",
     "text": [
      "[1.   1.25]\n"
     ]
    }
   ],
   "source": [
    "arr = np.array([1,1.25]) # 不通类型的数据会被强制转换为同一种\n",
    "print(arr)"
   ]
  },
  {
   "cell_type": "markdown",
   "id": "01a078f1-e591-47f5-a3b4-9695bcbe3f83",
   "metadata": {},
   "source": [
    "### 2.ndarray的属性"
   ]
  },
  {
   "cell_type": "code",
   "execution_count": 28,
   "id": "d939873b-157e-431f-a29f-144c2f514caf",
   "metadata": {},
   "outputs": [
    {
     "name": "stdout",
     "output_type": "stream",
     "text": [
      "1\n",
      "数组的形状： ()\n",
      "数组的维度： 0\n",
      "元素的个数： 1\n",
      "元素的数据类型： int64\n",
      "数组的转置 1\n"
     ]
    }
   ],
   "source": [
    "arr = np.array(1)\n",
    "print(arr)\n",
    "print('数组的形状：',arr.shape)\n",
    "print('数组的维度：', arr.ndim)\n",
    "print('元素的个数：', arr.size)\n",
    "print('元素的数据类型：', arr.dtype)\n",
    "print('数组的转置', arr.T)"
   ]
  },
  {
   "cell_type": "code",
   "execution_count": 38,
   "id": "58df9d17-edbc-4218-a31a-8c5180cea027",
   "metadata": {},
   "outputs": [
    {
     "name": "stdout",
     "output_type": "stream",
     "text": [
      "[1.   2.25 3.  ]\n",
      "数组的形状： (3,)\n",
      "数组的维度： 1\n",
      "元素的个数： 3\n",
      "元素的数据类型： float64\n",
      "数组的转置 [1.   2.25 3.  ]\n"
     ]
    }
   ],
   "source": [
    "arr = np.array([1,2.25,3])\n",
    "print(arr)\n",
    "print('数组的形状：',arr.shape)\n",
    "print('数组的维度：', arr.ndim)\n",
    "print('元素的个数：', arr.size)\n",
    "print('元素的数据类型：', arr.dtype)\n",
    "print('数组的转置', arr.T)"
   ]
  },
  {
   "cell_type": "code",
   "execution_count": 27,
   "id": "5946671c-c3a1-4850-a43a-391b2e6c7341",
   "metadata": {},
   "outputs": [
    {
     "name": "stdout",
     "output_type": "stream",
     "text": [
      "[[1 2 3]\n",
      " [4 5 6]]\n",
      "数组的形状： (2, 3)\n",
      "数组的维度： 2\n",
      "元素的个数： 6\n",
      "元素的数据类型： int64\n",
      "数组的转置 [[1 4]\n",
      " [2 5]\n",
      " [3 6]]\n"
     ]
    }
   ],
   "source": [
    "arr = np.array([[1,2,3], [4,5,6]])\n",
    "print(arr)\n",
    "print('数组的形状：',arr.shape)\n",
    "print('数组的维度：', arr.ndim)\n",
    "print('元素的个数：', arr.size)\n",
    "print('元素的数据类型：', arr.dtype)\n",
    "print('数组的转置', arr.T)"
   ]
  },
  {
   "cell_type": "markdown",
   "id": "a662c268-4afb-495d-b0fa-07b887ea931a",
   "metadata": {},
   "source": [
    "### 3.ndarray创建"
   ]
  },
  {
   "cell_type": "markdown",
   "id": "6a395a67-9726-4022-a70e-1c627975bde8",
   "metadata": {},
   "source": [
    "#### zeros 全零数组，只需要指定数组形状"
   ]
  },
  {
   "cell_type": "code",
   "execution_count": 30,
   "id": "25e2ce96-371e-4b20-b98e-8eeeba24b496",
   "metadata": {},
   "outputs": [
    {
     "name": "stdout",
     "output_type": "stream",
     "text": [
      "[0. 0.]\n"
     ]
    }
   ],
   "source": [
    "arr = np.zeros(2)\n",
    "print(arr)"
   ]
  },
  {
   "cell_type": "markdown",
   "id": "35534680-e873-4aef-b4e9-cea0748141f4",
   "metadata": {},
   "source": [
    "#### copy 拷贝，可修改拷贝后的数组，不影响远数组"
   ]
  },
  {
   "cell_type": "markdown",
   "id": "4e975a55-7fad-428f-9bd6-efeac08c8adc",
   "metadata": {},
   "source": [
    "arr1 = np.copy(arr)\n",
    "print(arr1)\n",
    "arr1[0]=8\n",
    "print(arr1)\n",
    "print(arr)"
   ]
  },
  {
   "cell_type": "markdown",
   "id": "708e95df-3f78-4496-95f8-00322a5922c2",
   "metadata": {},
   "source": [
    "#### ones 全1数组, 可以使用dtype参数指定元素类型"
   ]
  },
  {
   "cell_type": "code",
   "execution_count": 36,
   "id": "dce092a4-7fa7-4613-80f9-7d5c61be3c6e",
   "metadata": {},
   "outputs": [
    {
     "name": "stdout",
     "output_type": "stream",
     "text": [
      "[[1. 1. 1.]\n",
      " [1. 1. 1.]]\n",
      "float64\n"
     ]
    }
   ],
   "source": [
    "arr2 = np.ones([2,3], dtype=float)\n",
    "print(arr2)\n",
    "print(arr2.dtype)"
   ]
  },
  {
   "cell_type": "markdown",
   "id": "fa23759a-7aa6-41eb-881f-274d284b3f4e",
   "metadata": {},
   "source": [
    "#### full填充数组, 需要指定数组的形状和填充的数据"
   ]
  },
  {
   "cell_type": "code",
   "execution_count": 37,
   "id": "abc4df83-660b-40cf-975e-7d1440236809",
   "metadata": {},
   "outputs": [
    {
     "name": "stdout",
     "output_type": "stream",
     "text": [
      "[[2026 2026 2026]\n",
      " [2026 2026 2026]]\n"
     ]
    }
   ],
   "source": [
    "arr3 = np.full([2,3], 2026)\n",
    "print(arr3)"
   ]
  },
  {
   "cell_type": "markdown",
   "id": "9ad62282-3661-4dee-9e33-f4c4504268d2",
   "metadata": {},
   "source": [
    "#### empty空数组，需要指定数组的形状，会随机生成元素"
   ]
  },
  {
   "cell_type": "code",
   "execution_count": 55,
   "id": "fae5a57d-682a-4591-8452-fa0340e3b161",
   "metadata": {},
   "outputs": [
    {
     "name": "stdout",
     "output_type": "stream",
     "text": [
      "[[187605638254819               0 281472830540592 281472830541072]\n",
      " [281472830546512 281472830548832 281472830549152 281472830686288]\n",
      " [281472830687248 281472830690128 281472830778688 281472830800896]]\n"
     ]
    }
   ],
   "source": [
    "arr4 = np.empty([3,4], dtype=int)\n",
    "print(arr4)"
   ]
  },
  {
   "cell_type": "markdown",
   "id": "c62d2f59-0ccf-4deb-9d04-7285f849ad6f",
   "metadata": {},
   "source": [
    "#### 以上方法的likes方法"
   ]
  },
  {
   "cell_type": "code",
   "execution_count": 56,
   "id": "b86c38ee-c80e-4868-82ba-6b675bef1643",
   "metadata": {},
   "outputs": [
    {
     "name": "stdout",
     "output_type": "stream",
     "text": [
      "[[0. 0. 0.]\n",
      " [0. 0. 0.]]\n"
     ]
    }
   ],
   "source": [
    "# zeros_likes\n",
    "arr5 = np.zeros_like(arr2)\n",
    "print(arr5)"
   ]
  },
  {
   "cell_type": "code",
   "execution_count": 57,
   "id": "190c2f33-ac3a-4210-b60e-96a5476333cb",
   "metadata": {},
   "outputs": [
    {
     "name": "stdout",
     "output_type": "stream",
     "text": [
      "[1. 1.]\n"
     ]
    }
   ],
   "source": [
    "# ones_likes\n",
    "arr6 = np.ones_like(arr)\n",
    "print(arr6)"
   ]
  },
  {
   "cell_type": "code",
   "execution_count": 58,
   "id": "3c61f21c-b1cb-4fd3-982a-07dde8850438",
   "metadata": {},
   "outputs": [
    {
     "name": "stdout",
     "output_type": "stream",
     "text": [
      "[[4607182418800017408 4607182418800017408 4607182418800017408]\n",
      " [4607182418800017408 4607182418800017408 4607182418800017408]]\n"
     ]
    }
   ],
   "source": [
    "# empty_likes\n",
    "arr7 = np.empty_like(arr3)\n",
    "print(arr7)"
   ]
  },
  {
   "cell_type": "code",
   "execution_count": 70,
   "id": "46d4581f-13a1-476c-889a-fa9df8f30c40",
   "metadata": {},
   "outputs": [
    {
     "name": "stdout",
     "output_type": "stream",
     "text": [
      "[[2027. 2027. 2027.]\n",
      " [2027. 2027. 2027.]]\n"
     ]
    }
   ],
   "source": [
    "# full_likes\n",
    "arr8 = np.full_like(arr5, 2027)\n",
    "print(arr8)"
   ]
  },
  {
   "cell_type": "markdown",
   "id": "7a97a5de-6889-4633-b125-51b5e0f90a4c",
   "metadata": {},
   "source": [
    "#### 等差数组，start，end，step"
   ]
  },
  {
   "cell_type": "code",
   "execution_count": 71,
   "id": "d70175ad-71d1-4d46-b109-a55fa2a9cb03",
   "metadata": {},
   "outputs": [
    {
     "name": "stdout",
     "output_type": "stream",
     "text": [
      "[0 2 4 6 8]\n"
     ]
    }
   ],
   "source": [
    "arr = np.arange(0, 10, 2)\n",
    "print(arr)"
   ]
  },
  {
   "cell_type": "markdown",
   "id": "97019685-0bdc-471c-aff9-499a1a29578c",
   "metadata": {},
   "source": [
    "#### 等间隔数组，start，end，number"
   ]
  },
  {
   "cell_type": "code",
   "execution_count": 72,
   "id": "9c4fe436-27d5-48f3-89c9-4d73f5307848",
   "metadata": {},
   "outputs": [
    {
     "name": "stdout",
     "output_type": "stream",
     "text": [
      "[ 1. 10.]\n"
     ]
    }
   ],
   "source": [
    "arr = np.linspace(1, 10, 2)\n",
    "print(arr)"
   ]
  },
  {
   "cell_type": "markdown",
   "id": "09eaf1fb-daca-4e64-ac49-9a83e451cfa0",
   "metadata": {},
   "source": [
    "#### 对数等间隔数组，start，end，number，base="
   ]
  },
  {
   "cell_type": "code",
   "execution_count": 73,
   "id": "5d156c8d-43a7-48ce-bf1b-ba4875cf6045",
   "metadata": {},
   "outputs": [
    {
     "name": "stdout",
     "output_type": "stream",
     "text": [
      "[ 1. 16.]\n"
     ]
    }
   ],
   "source": [
    "arr = np.logspace(0, 4, 2,base=2)\n",
    "print(arr)"
   ]
  },
  {
   "cell_type": "markdown",
   "id": "84405ecd-27c9-4d35-8fd0-89c25c39762b",
   "metadata": {},
   "source": [
    "#### 生成随机数组 "
   ]
  },
  {
   "cell_type": "code",
   "execution_count": 75,
   "id": "1b370543-2edb-43ec-a103-ab60ffee1997",
   "metadata": {},
   "outputs": [
    {
     "name": "stdout",
     "output_type": "stream",
     "text": [
      "[[0.64383995 0.51553624 0.77972915 0.25749191 0.1836979 ]\n",
      " [0.55651551 0.77277214 0.75238816 0.98368397 0.03764174]]\n"
     ]
    }
   ],
   "source": [
    "# 生成随机浮点数组\n",
    "arr = np.random.rand(2,5)\n",
    "print(arr)"
   ]
  },
  {
   "cell_type": "code",
   "execution_count": 98,
   "id": "f335af56-6f95-4489-ab1e-b4ec139b154b",
   "metadata": {},
   "outputs": [
    {
     "name": "stdout",
     "output_type": "stream",
     "text": [
      "[[5 4 3]\n",
      " [4 4 1]]\n"
     ]
    }
   ],
   "source": [
    "# 生成随机整数数组, 可以指定形状\n",
    "arr = np.random.randint(1,6,(2,3))\n",
    "print(arr)"
   ]
  },
  {
   "cell_type": "code",
   "execution_count": 103,
   "id": "80807877-83ba-4966-8d6b-1c542bf94521",
   "metadata": {},
   "outputs": [
    {
     "name": "stdout",
     "output_type": "stream",
     "text": [
      "[[1. 0. 0.]\n",
      " [0. 1. 0.]]\n"
     ]
    }
   ],
   "source": [
    "# 单位矩阵，对角线上元素为1，其他都为0\n",
    "arr = np.eye(2,3)\n",
    "print(arr)"
   ]
  },
  {
   "cell_type": "code",
   "execution_count": 110,
   "id": "2d5b958d-d6ae-4e30-8aee-ec694a973e85",
   "metadata": {},
   "outputs": [
    {
     "name": "stdout",
     "output_type": "stream",
     "text": [
      "[[1 0 0 0]\n",
      " [0 3 0 0]\n",
      " [0 0 2 0]\n",
      " [0 0 0 3]]\n"
     ]
    }
   ],
   "source": [
    "# 对角矩阵，主对角线的元素非零，其他元素为0，需要指定主对角线上的值\n",
    "arr = np.diag([1,3,2,3])\n",
    "print(arr)"
   ]
  },
  {
   "cell_type": "code",
   "execution_count": 108,
   "id": "34f7a5bf-432b-4096-a2e3-f0375cf928fc",
   "metadata": {},
   "outputs": [
    {
     "name": "stdout",
     "output_type": "stream",
     "text": [
      "[[-0.92959531 -0.16776968 -0.3724871 ]\n",
      " [-0.23594527  1.1085886   0.12832541]]\n"
     ]
    }
   ],
   "source": [
    "# 生成正态分布数组（两边少，中间数多）中间数0到1之间\n",
    "arr = np.random.randn(2,3)\n",
    "print(arr)"
   ]
  },
  {
   "cell_type": "code",
   "execution_count": 144,
   "id": "9766011a-e6b0-4113-8833-278702c4e34f",
   "metadata": {},
   "outputs": [
    {
     "name": "stdout",
     "output_type": "stream",
     "text": [
      "[[10 16  5]\n",
      " [17 17  4]]\n"
     ]
    }
   ],
   "source": [
    "# 设置随机种子，当种子相同时，生成的随机数一致\n",
    "np.random.seed(21)\n",
    "arr = np.random.randint(1,20, (2, 3))\n",
    "print(arr)"
   ]
  },
  {
   "cell_type": "markdown",
   "id": "cafa9c75-2184-4bf2-9444-a0a3f15cae40",
   "metadata": {},
   "source": [
    "### 4.ndarray元素类型\n",
    "##### bool 布尔\n",
    "##### int uint 整型\n",
    "##### float 浮点\n",
    "##### complex 复数"
   ]
  },
  {
   "cell_type": "code",
   "execution_count": 28,
   "id": "36a8d2a8-ab3c-4576-9f25-ee5cbfec16ad",
   "metadata": {},
   "outputs": [
    {
     "name": "stdout",
     "output_type": "stream",
     "text": [
      "布尔类型： [ True False False  True  True]\n",
      "8位整型： [-127    0    3  127]\n",
      "8位无符号整型： [  1   0   3 255]\n",
      "32位单精度： [ -3.   2. 145.  67.]\n",
      "双精度： [-1.  0.  9. 32.]\n",
      "64位复数： [-3.+0.j  9.+0.j  6.+0.j 31.+0.j]\n"
     ]
    }
   ],
   "source": [
    "arr = np.array([1,0,0,3,5],dtype='bool')\n",
    "print('布尔类型：',arr)\n",
    "\n",
    "arr = np.array([-127, 0, 3, 127], dtype=np.int8)\n",
    "print('8位整型：', arr)\n",
    "\n",
    "arr = np.array([1, 0, 3, 255], dtype=np.uint8)\n",
    "print('8位无符号整型：', arr)\n",
    "\n",
    "arr = np.array([-3,2,145,67], dtype=np.float32)\n",
    "print('32位单精度：', arr)\n",
    "\n",
    "arr = np.array([-1, 0, 9 ,32], dtype=np.double)\n",
    "print('双精度：', arr)\n",
    "\n",
    "arr = np.array([-3, 9, 6, 31], dtype=np.complex64)\n",
    "print('64位复数：', arr)"
   ]
  },
  {
   "cell_type": "markdown",
   "id": "2437ce8e-ae0e-49b4-8a9a-f5485d4467e2",
   "metadata": {},
   "source": [
    "### 5.数组的索引与切片"
   ]
  },
  {
   "cell_type": "markdown",
   "id": "ead18adf-b81d-4884-aae2-07062fc85d54",
   "metadata": {},
   "source": [
    "#### 一维数组的索引与切片"
   ]
  },
  {
   "cell_type": "code",
   "execution_count": 35,
   "id": "a0cf1ae5-236a-454b-9611-b3871c144abf",
   "metadata": {},
   "outputs": [
    {
     "name": "stdout",
     "output_type": "stream",
     "text": [
      "所有元素： [ 10   2   3  45  75 132  43  66  45  77  89  65  90  34]\n",
      "左闭右开区间： [ 3 45 75]\n",
      "slice切片，指定步长: [ 3 75 43 45]\n",
      "布尔运算取值： [10  3 45 43 66 45 65 34]\n"
     ]
    }
   ],
   "source": [
    "arr = np.array([10,2,3,45,75,132,43,66,45,77,89,65,90,34])\n",
    "print('所有元素：',arr[:])\n",
    "print('左闭右开区间：', arr[2:5])\n",
    "print('slice切片，指定步长:', arr[slice(2,10,2)])\n",
    "print('布尔运算取值：', arr[ (arr>2) & (arr < 70) ])"
   ]
  },
  {
   "cell_type": "markdown",
   "id": "8523e12f-c533-4b2c-8e83-1c3fc1fb5735",
   "metadata": {},
   "source": [
    "#### 二维数组的索引与切片"
   ]
  },
  {
   "cell_type": "code",
   "execution_count": 74,
   "id": "4572a222-83f1-427d-9edf-66b8af995787",
   "metadata": {},
   "outputs": [
    {
     "name": "stdout",
     "output_type": "stream",
     "text": [
      "输出所有元素： [[4 7 6 8 7 5 9 4]\n",
      " [5 8 8 8 4 6 6 5]\n",
      " [6 9 5 4 4 9 8 6]\n",
      " [8 9 4 5 6 4 5 7]]\n",
      "指定元素索引： 7\n",
      "指定第二行： [5 8 8 8 4 6 6 5]\n",
      "指定第三列： [8 8 4 5]\n",
      "对第二行的元素进行布尔筛选： [5 8 8 8 6 6 5]\n",
      "对第三列的元素进行布尔筛选 [8 8]\n"
     ]
    }
   ],
   "source": [
    "arr = np.random.randint(4,10, (4,8))\n",
    "print('输出所有元素：', arr[:])\n",
    "print('指定元素索引：', arr[0,1])\n",
    "print('指定第二行：', arr[1,:])\n",
    "print('指定第三列：', arr[:,3])\n",
    "print('对第二行的元素进行布尔筛选：', arr[1][ arr[1] > 4 ])\n",
    "print('对第三列的元素进行布尔筛选', arr[:,3][ arr[:,3] > 5 ])"
   ]
  },
  {
   "cell_type": "markdown",
   "id": "1ce508ae-40e0-463c-a3f9-89005723b7e6",
   "metadata": {},
   "source": [
    "### 6 ndarray的运算"
   ]
  },
  {
   "cell_type": "markdown",
   "id": "64b0fdcf-bf66-4cc5-a2be-812070f54060",
   "metadata": {},
   "source": [
    "#### 一维数组的运算"
   ]
  },
  {
   "cell_type": "code",
   "execution_count": 76,
   "id": "2e521d5e-2d47-44c7-91b6-15ffdcbad8dd",
   "metadata": {},
   "outputs": [
    {
     "name": "stdout",
     "output_type": "stream",
     "text": [
      "加法： [5 7 9]\n",
      "减法： [3 3 3]\n",
      "除法： [0.25 0.4  0.5 ]\n",
      "乘法： [ 4 10 18]\n"
     ]
    }
   ],
   "source": [
    "a = np.array([1,2,3])\n",
    "b = np.array([4,5,6])\n",
    "print('加法：', a + b)\n",
    "print('减法：', b - a)\n",
    "print('除法：', a / b)\n",
    "print('乘法：', a * b)"
   ]
  },
  {
   "cell_type": "markdown",
   "id": "c7c5fcd2-39af-4fc5-9bb5-12ead94001fc",
   "metadata": {},
   "source": [
    "#### 二维数组的运算, 相同下标位置上的数据运算"
   ]
  },
  {
   "cell_type": "code",
   "execution_count": 101,
   "id": "79f97967-ffe6-426f-b774-3aca4be4ec1a",
   "metadata": {},
   "outputs": [
    {
     "name": "stdout",
     "output_type": "stream",
     "text": [
      "加法： [[ 8 10 12]\n",
      " [14 16 18]]\n",
      "减法： [[6 6 6]\n",
      " [6 6 6]]\n",
      "除法： [[0.14285714 0.25       0.33333333]\n",
      " [0.4        0.45454545 0.5       ]]\n",
      "乘法： [[ 7 16 27]\n",
      " [40 55 72]]\n"
     ]
    }
   ],
   "source": [
    "a = np.array([[1,2,3],[4,5,6]])\n",
    "b = np.array([[7,8,9],[10,11,12]])\n",
    "print('加法：', a + b)\n",
    "print('减法：', b - a)\n",
    "print('除法：', a / b)\n",
    "print('乘法：', a * b)"
   ]
  },
  {
   "cell_type": "markdown",
   "id": "1ce35bf6-9e1d-4f01-ab21-9d9ad5c84485",
   "metadata": {},
   "source": [
    "#### 数组的广播机制，不同行列的数组，满足广播机制也可以运算"
   ]
  },
  {
   "cell_type": "code",
   "execution_count": 118,
   "id": "2d690612-11e2-42d4-87a6-1ea4404c126d",
   "metadata": {},
   "outputs": [
    {
     "name": "stdout",
     "output_type": "stream",
     "text": [
      "加法： [[5 6 7]\n",
      " [6 7 8]\n",
      " [7 8 9]]\n",
      "减法： [[3 2 1]\n",
      " [4 3 2]\n",
      " [5 4 3]]\n",
      "除法： [[0.25       0.5        0.75      ]\n",
      " [0.2        0.4        0.6       ]\n",
      " [0.16666667 0.33333333 0.5       ]]\n",
      "乘法： [[ 4  8 12]\n",
      " [ 5 10 15]\n",
      " [ 6 12 18]]\n"
     ]
    },
    {
     "ename": "ValueError",
     "evalue": "operands could not be broadcast together with shapes (3,) (1,2) ",
     "output_type": "error",
     "traceback": [
      "\u001b[0;31m---------------------------------------------------------------------------\u001b[0m",
      "\u001b[0;31mValueError\u001b[0m                                Traceback (most recent call last)",
      "Cell \u001b[0;32mIn[118], line 23\u001b[0m\n\u001b[1;32m     19\u001b[0m d \u001b[38;5;241m=\u001b[39m np\u001b[38;5;241m.\u001b[39marray([[\u001b[38;5;241m4\u001b[39m,\u001b[38;5;241m5\u001b[39m]]) \u001b[38;5;66;03m# 1行2列\u001b[39;00m\n\u001b[1;32m     20\u001b[0m \u001b[38;5;124;03m'''\u001b[39;00m\n\u001b[1;32m     21\u001b[0m \u001b[38;5;124;03mc 和 d 无法广播，强行运算就会报错\u001b[39;00m\n\u001b[1;32m     22\u001b[0m \u001b[38;5;124;03m'''\u001b[39;00m\n\u001b[0;32m---> 23\u001b[0m \u001b[38;5;28mprint\u001b[39m(\u001b[38;5;124m'\u001b[39m\u001b[38;5;124m加法：\u001b[39m\u001b[38;5;124m'\u001b[39m, \u001b[43mc\u001b[49m\u001b[43m \u001b[49m\u001b[38;5;241;43m+\u001b[39;49m\u001b[43m \u001b[49m\u001b[43md\u001b[49m)\n",
      "\u001b[0;31mValueError\u001b[0m: operands could not be broadcast together with shapes (3,) (1,2) "
     ]
    }
   ],
   "source": [
    "a = np.array([1,2,3])  # 1行3列\n",
    "b = np.array([[4], [5], [6]])  # 3行1列\n",
    "'''\n",
    "a 广播后的数组\n",
    "1 2 3\n",
    "1 2 3\n",
    "1 2 3\n",
    "b 广播后的数组\n",
    "4 4 4\n",
    "5 5 5 \n",
    "6 6 6\n",
    "'''\n",
    "print('加法：', a + b)\n",
    "print('减法：', b - a)\n",
    "print('除法：', a / b)\n",
    "print('乘法：', a * b)\n",
    "\n",
    "c = np.array([1,2,3]) # 1行3列\n",
    "d = np.array([[4,5]]) # 1行2列\n",
    "'''\n",
    "c 和 d 无法广播，强行运算就会报错\n",
    "'''\n",
    "print('加法：', c + d)"
   ]
  },
  {
   "cell_type": "markdown",
   "id": "a8e6999d-6ee0-4ceb-8572-55ab6e9aab8e",
   "metadata": {},
   "source": [
    "#### 矩阵的运算, 使用@符号"
   ]
  },
  {
   "cell_type": "code",
   "execution_count": 119,
   "id": "e74dffb3-57d7-4a37-adcd-90aeebccb706",
   "metadata": {},
   "outputs": [
    {
     "name": "stdout",
     "output_type": "stream",
     "text": [
      "[[ 84  90  96]\n",
      " [201 216 231]\n",
      " [318 342 366]]\n"
     ]
    },
    {
     "data": {
      "text/plain": [
       "' \\n矩阵的运算规则，用a 行 * b 列，然后求和，放入对应的位置\\na[0,:] [1 2 3]\\nb[:,0] [10 13 16]\\n结果 [0,0] 1*10 +2*13 +3*16 = 10+26+48=84\\n'"
      ]
     },
     "execution_count": 119,
     "metadata": {},
     "output_type": "execute_result"
    }
   ],
   "source": [
    "a = np.array([[1,2,3],[4,5,6],[7,8,9]]) # 3*3矩阵\n",
    "b = np.array([[10,11,12], [13,14,15], [16,17,18]])\n",
    "print(a @ b)\n",
    "''' \n",
    "矩阵的运算规则，用a 行 * b 列，然后求和，放入对应的位置\n",
    "a[0,:] [1 2 3]\n",
    "b[:,0] [10 13 16]\n",
    "结果 [0,0] 1*10 +2*13 +3*16 = 10+26+48=84\n",
    "'''"
   ]
  }
 ],
 "metadata": {
  "kernelspec": {
   "display_name": "Python 3 (ipykernel)",
   "language": "python",
   "name": "python3"
  },
  "language_info": {
   "codemirror_mode": {
    "name": "ipython",
    "version": 3
   },
   "file_extension": ".py",
   "mimetype": "text/x-python",
   "name": "python",
   "nbconvert_exporter": "python",
   "pygments_lexer": "ipython3",
   "version": "3.10.12"
  }
 },
 "nbformat": 4,
 "nbformat_minor": 5
}
