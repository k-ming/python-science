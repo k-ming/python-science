{
 "cells": [
  {
   "cell_type": "markdown",
   "id": "99f81d09-d0bd-4dc2-9b7c-d26f45b78e86",
   "metadata": {},
   "source": [
    "# 一、ndarray\n",
    "### 1.ndarray的特性\n",
    "### 多维性"
   ]
  },
  {
   "cell_type": "code",
   "execution_count": 154,
   "id": "20606e6c-eb08-45ab-b86a-f647b3f73352",
   "metadata": {},
   "outputs": [],
   "source": [
    "import numpy as np"
   ]
  },
  {
   "cell_type": "code",
   "execution_count": 18,
   "id": "a7589290-9927-4c29-b46c-2a812a1d113e",
   "metadata": {},
   "outputs": [
    {
     "name": "stdout",
     "output_type": "stream",
     "text": [
      "5\n",
      "arr的维度 0\n"
     ]
    }
   ],
   "source": [
    "arr = np.array(5) # 创建0维的数组\n",
    "print(arr)\n",
    "print('arr的维度', arr.ndim)"
   ]
  },
  {
   "cell_type": "code",
   "execution_count": 19,
   "id": "31a2ee96-028f-43ac-94b8-f5aa1dcd37b0",
   "metadata": {},
   "outputs": [
    {
     "name": "stdout",
     "output_type": "stream",
     "text": [
      "[1 2 3]\n",
      "arr的维度: 1\n"
     ]
    }
   ],
   "source": [
    "arr = np.array([1,2,3]) # 创建1维的数组\n",
    "print(arr)\n",
    "print('arr的维度:', arr.ndim)"
   ]
  },
  {
   "cell_type": "code",
   "execution_count": 20,
   "id": "02890783-44eb-4f72-b970-1140a6f0d57f",
   "metadata": {},
   "outputs": [
    {
     "name": "stdout",
     "output_type": "stream",
     "text": [
      "[[1 2 3]\n",
      " [4 5 6]]\n",
      "arr的维度: 2\n"
     ]
    }
   ],
   "source": [
    "arr = np.array([[1,2,3],[4,5,6]]) # 创建2维的数组\n",
    "print(arr)\n",
    "print('arr的维度:', arr.ndim)"
   ]
  },
  {
   "cell_type": "markdown",
   "id": "845d06b3-3ec8-43cc-b34c-3df0aed9e56e",
   "metadata": {},
   "source": [
    "### 同质性"
   ]
  },
  {
   "cell_type": "code",
   "execution_count": 21,
   "id": "39e5d383-58d3-4b4e-9bec-605b283e3d09",
   "metadata": {},
   "outputs": [
    {
     "name": "stdout",
     "output_type": "stream",
     "text": [
      "['1' 'hello']\n"
     ]
    }
   ],
   "source": [
    "arr = np.array([1,'hello']) # 不通类型的数据会被强制转换为同一种\n",
    "print(arr)"
   ]
  },
  {
   "cell_type": "code",
   "execution_count": 22,
   "id": "2af2505f-039c-4bc8-b88e-916a4f833bb6",
   "metadata": {},
   "outputs": [
    {
     "name": "stdout",
     "output_type": "stream",
     "text": [
      "[1.   1.25]\n"
     ]
    }
   ],
   "source": [
    "arr = np.array([1,1.25]) # 不通类型的数据会被强制转换为同一种\n",
    "print(arr)"
   ]
  },
  {
   "cell_type": "markdown",
   "id": "01a078f1-e591-47f5-a3b4-9695bcbe3f83",
   "metadata": {},
   "source": [
    "### 2.ndarray的属性"
   ]
  },
  {
   "cell_type": "code",
   "execution_count": 28,
   "id": "d939873b-157e-431f-a29f-144c2f514caf",
   "metadata": {},
   "outputs": [
    {
     "name": "stdout",
     "output_type": "stream",
     "text": [
      "1\n",
      "数组的形状： ()\n",
      "数组的维度： 0\n",
      "元素的个数： 1\n",
      "元素的数据类型： int64\n",
      "数组的转置 1\n"
     ]
    }
   ],
   "source": [
    "arr = np.array(1)\n",
    "print(arr)\n",
    "print('数组的形状：',arr.shape)\n",
    "print('数组的维度：', arr.ndim)\n",
    "print('元素的个数：', arr.size)\n",
    "print('元素的数据类型：', arr.dtype)\n",
    "print('数组的转置', arr.T)"
   ]
  },
  {
   "cell_type": "code",
   "execution_count": 38,
   "id": "58df9d17-edbc-4218-a31a-8c5180cea027",
   "metadata": {},
   "outputs": [
    {
     "name": "stdout",
     "output_type": "stream",
     "text": [
      "[1.   2.25 3.  ]\n",
      "数组的形状： (3,)\n",
      "数组的维度： 1\n",
      "元素的个数： 3\n",
      "元素的数据类型： float64\n",
      "数组的转置 [1.   2.25 3.  ]\n"
     ]
    }
   ],
   "source": [
    "arr = np.array([1,2.25,3])\n",
    "print(arr)\n",
    "print('数组的形状：',arr.shape)\n",
    "print('数组的维度：', arr.ndim)\n",
    "print('元素的个数：', arr.size)\n",
    "print('元素的数据类型：', arr.dtype)\n",
    "print('数组的转置', arr.T)"
   ]
  },
  {
   "cell_type": "code",
   "execution_count": 27,
   "id": "5946671c-c3a1-4850-a43a-391b2e6c7341",
   "metadata": {},
   "outputs": [
    {
     "name": "stdout",
     "output_type": "stream",
     "text": [
      "[[1 2 3]\n",
      " [4 5 6]]\n",
      "数组的形状： (2, 3)\n",
      "数组的维度： 2\n",
      "元素的个数： 6\n",
      "元素的数据类型： int64\n",
      "数组的转置 [[1 4]\n",
      " [2 5]\n",
      " [3 6]]\n"
     ]
    }
   ],
   "source": [
    "arr = np.array([[1,2,3], [4,5,6]])\n",
    "print(arr)\n",
    "print('数组的形状：',arr.shape)\n",
    "print('数组的维度：', arr.ndim)\n",
    "print('元素的个数：', arr.size)\n",
    "print('元素的数据类型：', arr.dtype)\n",
    "print('数组的转置', arr.T)"
   ]
  },
  {
   "cell_type": "markdown",
   "id": "a662c268-4afb-495d-b0fa-07b887ea931a",
   "metadata": {},
   "source": [
    "### 3.ndarray创建"
   ]
  },
  {
   "cell_type": "markdown",
   "id": "6a395a67-9726-4022-a70e-1c627975bde8",
   "metadata": {},
   "source": [
    "#### zeros 全零数组，只需要指定数组形状"
   ]
  },
  {
   "cell_type": "code",
   "execution_count": 30,
   "id": "25e2ce96-371e-4b20-b98e-8eeeba24b496",
   "metadata": {},
   "outputs": [
    {
     "name": "stdout",
     "output_type": "stream",
     "text": [
      "[0. 0.]\n"
     ]
    }
   ],
   "source": [
    "arr = np.zeros(2)\n",
    "print(arr)"
   ]
  },
  {
   "cell_type": "markdown",
   "id": "35534680-e873-4aef-b4e9-cea0748141f4",
   "metadata": {},
   "source": [
    "#### copy 拷贝，可修改拷贝后的数组，不影响远数组"
   ]
  },
  {
   "cell_type": "markdown",
   "id": "4e975a55-7fad-428f-9bd6-efeac08c8adc",
   "metadata": {},
   "source": [
    "arr1 = np.copy(arr)\n",
    "print(arr1)\n",
    "arr1[0]=8\n",
    "print(arr1)\n",
    "print(arr)"
   ]
  },
  {
   "cell_type": "markdown",
   "id": "708e95df-3f78-4496-95f8-00322a5922c2",
   "metadata": {},
   "source": [
    "#### ones 全1数组, 可以使用dtype参数指定元素类型"
   ]
  },
  {
   "cell_type": "code",
   "execution_count": 36,
   "id": "dce092a4-7fa7-4613-80f9-7d5c61be3c6e",
   "metadata": {},
   "outputs": [
    {
     "name": "stdout",
     "output_type": "stream",
     "text": [
      "[[1. 1. 1.]\n",
      " [1. 1. 1.]]\n",
      "float64\n"
     ]
    }
   ],
   "source": [
    "arr2 = np.ones([2,3], dtype=float)\n",
    "print(arr2)\n",
    "print(arr2.dtype)"
   ]
  },
  {
   "cell_type": "markdown",
   "id": "fa23759a-7aa6-41eb-881f-274d284b3f4e",
   "metadata": {},
   "source": [
    "#### full填充数组, 需要指定数组的形状和填充的数据"
   ]
  },
  {
   "cell_type": "code",
   "execution_count": 37,
   "id": "abc4df83-660b-40cf-975e-7d1440236809",
   "metadata": {},
   "outputs": [
    {
     "name": "stdout",
     "output_type": "stream",
     "text": [
      "[[2026 2026 2026]\n",
      " [2026 2026 2026]]\n"
     ]
    }
   ],
   "source": [
    "arr3 = np.full([2,3], 2026)\n",
    "print(arr3)"
   ]
  },
  {
   "cell_type": "markdown",
   "id": "9ad62282-3661-4dee-9e33-f4c4504268d2",
   "metadata": {},
   "source": [
    "#### empty空数组，需要指定数组的形状，会随机生成元素"
   ]
  },
  {
   "cell_type": "code",
   "execution_count": 55,
   "id": "fae5a57d-682a-4591-8452-fa0340e3b161",
   "metadata": {},
   "outputs": [
    {
     "name": "stdout",
     "output_type": "stream",
     "text": [
      "[[187605638254819               0 281472830540592 281472830541072]\n",
      " [281472830546512 281472830548832 281472830549152 281472830686288]\n",
      " [281472830687248 281472830690128 281472830778688 281472830800896]]\n"
     ]
    }
   ],
   "source": [
    "arr4 = np.empty([3,4], dtype=int)\n",
    "print(arr4)"
   ]
  },
  {
   "cell_type": "markdown",
   "id": "c62d2f59-0ccf-4deb-9d04-7285f849ad6f",
   "metadata": {},
   "source": [
    "#### 以上方法的likes方法"
   ]
  },
  {
   "cell_type": "code",
   "execution_count": 56,
   "id": "b86c38ee-c80e-4868-82ba-6b675bef1643",
   "metadata": {},
   "outputs": [
    {
     "name": "stdout",
     "output_type": "stream",
     "text": [
      "[[0. 0. 0.]\n",
      " [0. 0. 0.]]\n"
     ]
    }
   ],
   "source": [
    "# zeros_likes\n",
    "arr5 = np.zeros_like(arr2)\n",
    "print(arr5)"
   ]
  },
  {
   "cell_type": "code",
   "execution_count": 57,
   "id": "190c2f33-ac3a-4210-b60e-96a5476333cb",
   "metadata": {},
   "outputs": [
    {
     "name": "stdout",
     "output_type": "stream",
     "text": [
      "[1. 1.]\n"
     ]
    }
   ],
   "source": [
    "# ones_likes\n",
    "arr6 = np.ones_like(arr)\n",
    "print(arr6)"
   ]
  },
  {
   "cell_type": "code",
   "execution_count": 58,
   "id": "3c61f21c-b1cb-4fd3-982a-07dde8850438",
   "metadata": {},
   "outputs": [
    {
     "name": "stdout",
     "output_type": "stream",
     "text": [
      "[[4607182418800017408 4607182418800017408 4607182418800017408]\n",
      " [4607182418800017408 4607182418800017408 4607182418800017408]]\n"
     ]
    }
   ],
   "source": [
    "# empty_likes\n",
    "arr7 = np.empty_like(arr3)\n",
    "print(arr7)"
   ]
  },
  {
   "cell_type": "code",
   "execution_count": 70,
   "id": "46d4581f-13a1-476c-889a-fa9df8f30c40",
   "metadata": {},
   "outputs": [
    {
     "name": "stdout",
     "output_type": "stream",
     "text": [
      "[[2027. 2027. 2027.]\n",
      " [2027. 2027. 2027.]]\n"
     ]
    }
   ],
   "source": [
    "# full_likes\n",
    "arr8 = np.full_like(arr5, 2027)\n",
    "print(arr8)"
   ]
  },
  {
   "cell_type": "markdown",
   "id": "7a97a5de-6889-4633-b125-51b5e0f90a4c",
   "metadata": {},
   "source": [
    "#### 等差数组，start，end，step"
   ]
  },
  {
   "cell_type": "code",
   "execution_count": 71,
   "id": "d70175ad-71d1-4d46-b109-a55fa2a9cb03",
   "metadata": {},
   "outputs": [
    {
     "name": "stdout",
     "output_type": "stream",
     "text": [
      "[0 2 4 6 8]\n"
     ]
    }
   ],
   "source": [
    "arr = np.arange(0, 10, 2)\n",
    "print(arr)"
   ]
  },
  {
   "cell_type": "markdown",
   "id": "97019685-0bdc-471c-aff9-499a1a29578c",
   "metadata": {},
   "source": [
    "#### 等间隔数组，start，end，number"
   ]
  },
  {
   "cell_type": "code",
   "execution_count": 72,
   "id": "9c4fe436-27d5-48f3-89c9-4d73f5307848",
   "metadata": {},
   "outputs": [
    {
     "name": "stdout",
     "output_type": "stream",
     "text": [
      "[ 1. 10.]\n"
     ]
    }
   ],
   "source": [
    "arr = np.linspace(1, 10, 2)\n",
    "print(arr)"
   ]
  },
  {
   "cell_type": "markdown",
   "id": "09eaf1fb-daca-4e64-ac49-9a83e451cfa0",
   "metadata": {},
   "source": [
    "#### 对数等间隔数组，start，end，number，base="
   ]
  },
  {
   "cell_type": "code",
   "execution_count": 73,
   "id": "5d156c8d-43a7-48ce-bf1b-ba4875cf6045",
   "metadata": {},
   "outputs": [
    {
     "name": "stdout",
     "output_type": "stream",
     "text": [
      "[ 1. 16.]\n"
     ]
    }
   ],
   "source": [
    "arr = np.logspace(0, 4, 2,base=2)\n",
    "print(arr)"
   ]
  },
  {
   "cell_type": "markdown",
   "id": "84405ecd-27c9-4d35-8fd0-89c25c39762b",
   "metadata": {},
   "source": [
    "#### 生成随机数组 "
   ]
  },
  {
   "cell_type": "code",
   "execution_count": 75,
   "id": "1b370543-2edb-43ec-a103-ab60ffee1997",
   "metadata": {},
   "outputs": [
    {
     "name": "stdout",
     "output_type": "stream",
     "text": [
      "[[0.64383995 0.51553624 0.77972915 0.25749191 0.1836979 ]\n",
      " [0.55651551 0.77277214 0.75238816 0.98368397 0.03764174]]\n"
     ]
    }
   ],
   "source": [
    "# 生成随机浮点数组\n",
    "arr = np.random.rand(2,5)\n",
    "print(arr)"
   ]
  },
  {
   "cell_type": "code",
   "execution_count": 98,
   "id": "f335af56-6f95-4489-ab1e-b4ec139b154b",
   "metadata": {},
   "outputs": [
    {
     "name": "stdout",
     "output_type": "stream",
     "text": [
      "[[5 4 3]\n",
      " [4 4 1]]\n"
     ]
    }
   ],
   "source": [
    "# 生成随机整数数组, 可以指定形状\n",
    "arr = np.random.randint(1,6,(2,3))\n",
    "print(arr)"
   ]
  },
  {
   "cell_type": "code",
   "execution_count": 103,
   "id": "80807877-83ba-4966-8d6b-1c542bf94521",
   "metadata": {},
   "outputs": [
    {
     "name": "stdout",
     "output_type": "stream",
     "text": [
      "[[1. 0. 0.]\n",
      " [0. 1. 0.]]\n"
     ]
    }
   ],
   "source": [
    "# 单位矩阵，对角线上元素为1，其他都为0\n",
    "arr = np.eye(2,3)\n",
    "print(arr)"
   ]
  },
  {
   "cell_type": "code",
   "execution_count": 110,
   "id": "2d5b958d-d6ae-4e30-8aee-ec694a973e85",
   "metadata": {},
   "outputs": [
    {
     "name": "stdout",
     "output_type": "stream",
     "text": [
      "[[1 0 0 0]\n",
      " [0 3 0 0]\n",
      " [0 0 2 0]\n",
      " [0 0 0 3]]\n"
     ]
    }
   ],
   "source": [
    "# 对角矩阵，主对角线的元素非零，其他元素为0，需要指定主对角线上的值\n",
    "arr = np.diag([1,3,2,3])\n",
    "print(arr)"
   ]
  },
  {
   "cell_type": "code",
   "execution_count": 108,
   "id": "34f7a5bf-432b-4096-a2e3-f0375cf928fc",
   "metadata": {},
   "outputs": [
    {
     "name": "stdout",
     "output_type": "stream",
     "text": [
      "[[-0.92959531 -0.16776968 -0.3724871 ]\n",
      " [-0.23594527  1.1085886   0.12832541]]\n"
     ]
    }
   ],
   "source": [
    "# 生成正态分布数组（两边少，中间数多）中间数0到1之间\n",
    "arr = np.random.randn(2,3)\n",
    "print(arr)"
   ]
  },
  {
   "cell_type": "code",
   "execution_count": 144,
   "id": "9766011a-e6b0-4113-8833-278702c4e34f",
   "metadata": {},
   "outputs": [
    {
     "name": "stdout",
     "output_type": "stream",
     "text": [
      "[[10 16  5]\n",
      " [17 17  4]]\n"
     ]
    }
   ],
   "source": [
    "# 设置随机种子，当种子相同时，生成的随机数一致\n",
    "np.random.seed(21)\n",
    "arr = np.random.randint(1,20, (2, 3))\n",
    "print(arr)"
   ]
  },
  {
   "cell_type": "markdown",
   "id": "cafa9c75-2184-4bf2-9444-a0a3f15cae40",
   "metadata": {},
   "source": [
    "### 4.ndarray元素类型\n",
    "##### bool 布尔\n",
    "##### int uint 整型\n",
    "##### float 浮点\n",
    "##### complex 复数"
   ]
  },
  {
   "cell_type": "code",
   "execution_count": 28,
   "id": "36a8d2a8-ab3c-4576-9f25-ee5cbfec16ad",
   "metadata": {},
   "outputs": [
    {
     "name": "stdout",
     "output_type": "stream",
     "text": [
      "布尔类型： [ True False False  True  True]\n",
      "8位整型： [-127    0    3  127]\n",
      "8位无符号整型： [  1   0   3 255]\n",
      "32位单精度： [ -3.   2. 145.  67.]\n",
      "双精度： [-1.  0.  9. 32.]\n",
      "64位复数： [-3.+0.j  9.+0.j  6.+0.j 31.+0.j]\n"
     ]
    }
   ],
   "source": [
    "arr = np.array([1,0,0,3,5],dtype='bool')\n",
    "print('布尔类型：',arr)\n",
    "\n",
    "arr = np.array([-127, 0, 3, 127], dtype=np.int8)\n",
    "print('8位整型：', arr)\n",
    "\n",
    "arr = np.array([1, 0, 3, 255], dtype=np.uint8)\n",
    "print('8位无符号整型：', arr)\n",
    "\n",
    "arr = np.array([-3,2,145,67], dtype=np.float32)\n",
    "print('32位单精度：', arr)\n",
    "\n",
    "arr = np.array([-1, 0, 9 ,32], dtype=np.double)\n",
    "print('双精度：', arr)\n",
    "\n",
    "arr = np.array([-3, 9, 6, 31], dtype=np.complex64)\n",
    "print('64位复数：', arr)"
   ]
  },
  {
   "cell_type": "markdown",
   "id": "2437ce8e-ae0e-49b4-8a9a-f5485d4467e2",
   "metadata": {},
   "source": [
    "### 5.数组的索引与切片"
   ]
  },
  {
   "cell_type": "markdown",
   "id": "ead18adf-b81d-4884-aae2-07062fc85d54",
   "metadata": {},
   "source": [
    "#### 一维数组的索引与切片"
   ]
  },
  {
   "cell_type": "code",
   "execution_count": 35,
   "id": "a0cf1ae5-236a-454b-9611-b3871c144abf",
   "metadata": {},
   "outputs": [
    {
     "name": "stdout",
     "output_type": "stream",
     "text": [
      "所有元素： [ 10   2   3  45  75 132  43  66  45  77  89  65  90  34]\n",
      "左闭右开区间： [ 3 45 75]\n",
      "slice切片，指定步长: [ 3 75 43 45]\n",
      "布尔运算取值： [10  3 45 43 66 45 65 34]\n"
     ]
    }
   ],
   "source": [
    "arr = np.array([10,2,3,45,75,132,43,66,45,77,89,65,90,34])\n",
    "print('所有元素：',arr[:])\n",
    "print('左闭右开区间：', arr[2:5])\n",
    "print('slice切片，指定步长:', arr[slice(2,10,2)])\n",
    "print('布尔运算取值：', arr[ (arr>2) & (arr < 70) ])"
   ]
  },
  {
   "cell_type": "markdown",
   "id": "8523e12f-c533-4b2c-8e83-1c3fc1fb5735",
   "metadata": {},
   "source": [
    "#### 二维数组的索引与切片"
   ]
  },
  {
   "cell_type": "code",
   "execution_count": 74,
   "id": "4572a222-83f1-427d-9edf-66b8af995787",
   "metadata": {},
   "outputs": [
    {
     "name": "stdout",
     "output_type": "stream",
     "text": [
      "输出所有元素： [[4 7 6 8 7 5 9 4]\n",
      " [5 8 8 8 4 6 6 5]\n",
      " [6 9 5 4 4 9 8 6]\n",
      " [8 9 4 5 6 4 5 7]]\n",
      "指定元素索引： 7\n",
      "指定第二行： [5 8 8 8 4 6 6 5]\n",
      "指定第三列： [8 8 4 5]\n",
      "对第二行的元素进行布尔筛选： [5 8 8 8 6 6 5]\n",
      "对第三列的元素进行布尔筛选 [8 8]\n"
     ]
    }
   ],
   "source": [
    "arr = np.random.randint(4,10, (4,8))\n",
    "print('输出所有元素：', arr[:])\n",
    "print('指定元素索引：', arr[0,1])\n",
    "print('指定第二行：', arr[1,:])\n",
    "print('指定第三列：', arr[:,3])\n",
    "print('对第二行的元素进行布尔筛选：', arr[1][ arr[1] > 4 ])\n",
    "print('对第三列的元素进行布尔筛选', arr[:,3][ arr[:,3] > 5 ])"
   ]
  },
  {
   "cell_type": "markdown",
   "id": "1ce508ae-40e0-463c-a3f9-89005723b7e6",
   "metadata": {},
   "source": [
    "### 6 ndarray的运算"
   ]
  },
  {
   "cell_type": "markdown",
   "id": "64b0fdcf-bf66-4cc5-a2be-812070f54060",
   "metadata": {},
   "source": [
    "#### 一维数组的运算"
   ]
  },
  {
   "cell_type": "code",
   "execution_count": 76,
   "id": "2e521d5e-2d47-44c7-91b6-15ffdcbad8dd",
   "metadata": {},
   "outputs": [
    {
     "name": "stdout",
     "output_type": "stream",
     "text": [
      "加法： [5 7 9]\n",
      "减法： [3 3 3]\n",
      "除法： [0.25 0.4  0.5 ]\n",
      "乘法： [ 4 10 18]\n"
     ]
    }
   ],
   "source": [
    "a = np.array([1,2,3])\n",
    "b = np.array([4,5,6])\n",
    "print('加法：', a + b)\n",
    "print('减法：', b - a)\n",
    "print('除法：', a / b)\n",
    "print('乘法：', a * b)"
   ]
  },
  {
   "cell_type": "markdown",
   "id": "c7c5fcd2-39af-4fc5-9bb5-12ead94001fc",
   "metadata": {},
   "source": [
    "#### 二维数组的运算, 相同下标位置上的数据运算"
   ]
  },
  {
   "cell_type": "code",
   "execution_count": 101,
   "id": "79f97967-ffe6-426f-b774-3aca4be4ec1a",
   "metadata": {},
   "outputs": [
    {
     "name": "stdout",
     "output_type": "stream",
     "text": [
      "加法： [[ 8 10 12]\n",
      " [14 16 18]]\n",
      "减法： [[6 6 6]\n",
      " [6 6 6]]\n",
      "除法： [[0.14285714 0.25       0.33333333]\n",
      " [0.4        0.45454545 0.5       ]]\n",
      "乘法： [[ 7 16 27]\n",
      " [40 55 72]]\n"
     ]
    }
   ],
   "source": [
    "a = np.array([[1,2,3],[4,5,6]])\n",
    "b = np.array([[7,8,9],[10,11,12]])\n",
    "print('加法：', a + b)\n",
    "print('减法：', b - a)\n",
    "print('除法：', a / b)\n",
    "print('乘法：', a * b)"
   ]
  },
  {
   "cell_type": "markdown",
   "id": "1ce35bf6-9e1d-4f01-ab21-9d9ad5c84485",
   "metadata": {},
   "source": [
    "#### 数组的广播机制，不同行列的数组，满足广播机制也可以运算"
   ]
  },
  {
   "cell_type": "code",
   "execution_count": 118,
   "id": "2d690612-11e2-42d4-87a6-1ea4404c126d",
   "metadata": {},
   "outputs": [
    {
     "name": "stdout",
     "output_type": "stream",
     "text": [
      "加法： [[5 6 7]\n",
      " [6 7 8]\n",
      " [7 8 9]]\n",
      "减法： [[3 2 1]\n",
      " [4 3 2]\n",
      " [5 4 3]]\n",
      "除法： [[0.25       0.5        0.75      ]\n",
      " [0.2        0.4        0.6       ]\n",
      " [0.16666667 0.33333333 0.5       ]]\n",
      "乘法： [[ 4  8 12]\n",
      " [ 5 10 15]\n",
      " [ 6 12 18]]\n"
     ]
    },
    {
     "ename": "ValueError",
     "evalue": "operands could not be broadcast together with shapes (3,) (1,2) ",
     "output_type": "error",
     "traceback": [
      "\u001b[0;31m---------------------------------------------------------------------------\u001b[0m",
      "\u001b[0;31mValueError\u001b[0m                                Traceback (most recent call last)",
      "Cell \u001b[0;32mIn[118], line 23\u001b[0m\n\u001b[1;32m     19\u001b[0m d \u001b[38;5;241m=\u001b[39m np\u001b[38;5;241m.\u001b[39marray([[\u001b[38;5;241m4\u001b[39m,\u001b[38;5;241m5\u001b[39m]]) \u001b[38;5;66;03m# 1行2列\u001b[39;00m\n\u001b[1;32m     20\u001b[0m \u001b[38;5;124;03m'''\u001b[39;00m\n\u001b[1;32m     21\u001b[0m \u001b[38;5;124;03mc 和 d 无法广播，强行运算就会报错\u001b[39;00m\n\u001b[1;32m     22\u001b[0m \u001b[38;5;124;03m'''\u001b[39;00m\n\u001b[0;32m---> 23\u001b[0m \u001b[38;5;28mprint\u001b[39m(\u001b[38;5;124m'\u001b[39m\u001b[38;5;124m加法：\u001b[39m\u001b[38;5;124m'\u001b[39m, \u001b[43mc\u001b[49m\u001b[43m \u001b[49m\u001b[38;5;241;43m+\u001b[39;49m\u001b[43m \u001b[49m\u001b[43md\u001b[49m)\n",
      "\u001b[0;31mValueError\u001b[0m: operands could not be broadcast together with shapes (3,) (1,2) "
     ]
    }
   ],
   "source": [
    "a = np.array([1,2,3])  # 1行3列\n",
    "b = np.array([[4], [5], [6]])  # 3行1列\n",
    "'''\n",
    "a 广播后的数组\n",
    "1 2 3\n",
    "1 2 3\n",
    "1 2 3\n",
    "b 广播后的数组\n",
    "4 4 4\n",
    "5 5 5 \n",
    "6 6 6\n",
    "'''\n",
    "print('加法：', a + b)\n",
    "print('减法：', b - a)\n",
    "print('除法：', a / b)\n",
    "print('乘法：', a * b)\n",
    "\n",
    "c = np.array([1,2,3]) # 1行3列\n",
    "d = np.array([[4,5]]) # 1行2列\n",
    "'''\n",
    "c 和 d 无法广播，强行运算就会报错\n",
    "'''\n",
    "print('加法：', c + d)"
   ]
  },
  {
   "cell_type": "markdown",
   "id": "a8e6999d-6ee0-4ceb-8572-55ab6e9aab8e",
   "metadata": {},
   "source": [
    "#### 矩阵的运算, 使用@符号"
   ]
  },
  {
   "cell_type": "code",
   "execution_count": 119,
   "id": "e74dffb3-57d7-4a37-adcd-90aeebccb706",
   "metadata": {},
   "outputs": [
    {
     "name": "stdout",
     "output_type": "stream",
     "text": [
      "[[ 84  90  96]\n",
      " [201 216 231]\n",
      " [318 342 366]]\n"
     ]
    },
    {
     "data": {
      "text/plain": [
       "' \\n矩阵的运算规则，用a 行 * b 列，然后求和，放入对应的位置\\na[0,:] [1 2 3]\\nb[:,0] [10 13 16]\\n结果 [0,0] 1*10 +2*13 +3*16 = 10+26+48=84\\n'"
      ]
     },
     "execution_count": 119,
     "metadata": {},
     "output_type": "execute_result"
    }
   ],
   "source": [
    "a = np.array([[1,2,3],[4,5,6],[7,8,9]]) # 3*3矩阵\n",
    "b = np.array([[10,11,12], [13,14,15], [16,17,18]])\n",
    "print(a @ b)\n",
    "''' \n",
    "矩阵的运算规则，用a 行 * b 列，然后求和，放入对应的位置\n",
    "a[0,:] [1 2 3]\n",
    "b[:,0] [10 13 16]\n",
    "结果 [0,0] 1*10 +2*13 +3*16 = 10+26+48=84\n",
    "'''"
   ]
  },
  {
   "cell_type": "markdown",
   "id": "26c01bd7-8550-4db5-b769-3f132cf025a3",
   "metadata": {},
   "source": [
    "### 7.numpy基本数学函数"
   ]
  },
  {
   "cell_type": "markdown",
   "id": "74007631-6c19-4f05-98eb-8c830df6dd93",
   "metadata": {},
   "source": [
    "#### 计算开平方根"
   ]
  },
  {
   "cell_type": "code",
   "execution_count": 93,
   "id": "3b22927d-1998-492f-a0fe-0de52752aa3f",
   "metadata": {},
   "outputs": [
    {
     "name": "stdout",
     "output_type": "stream",
     "text": [
      "3.0\n",
      "[2. 3. 5.]\n"
     ]
    }
   ],
   "source": [
    "print(np.sqrt(9))\n",
    "arr = np.array([4,9,25])\n",
    "print(np.sqrt(arr))\n"
   ]
  },
  {
   "cell_type": "markdown",
   "id": "bbe412b6-201f-467d-997e-30780579f95c",
   "metadata": {},
   "source": [
    "#### 计算指数，相当于以 e 为底，指数为1的结果"
   ]
  },
  {
   "cell_type": "code",
   "execution_count": 137,
   "id": "b9ac9c2f-c3c0-4e0c-94d7-f27731feb22e",
   "metadata": {},
   "outputs": [
    {
     "name": "stdout",
     "output_type": "stream",
     "text": [
      "2.718281828459045\n"
     ]
    }
   ],
   "source": [
    "print(np.exp(1)) # 以e为底"
   ]
  },
  {
   "cell_type": "markdown",
   "id": "ae418008-ff17-4808-b129-b52ade27b736",
   "metadata": {},
   "source": [
    "#### 计算对数, 相当于求出e为底结果为 2.718281828459045 的指数"
   ]
  },
  {
   "cell_type": "code",
   "execution_count": 161,
   "id": "f3b1db4f-f2e4-492b-9540-2cc36198ea12",
   "metadata": {
    "scrolled": true
   },
   "outputs": [
    {
     "name": "stdout",
     "output_type": "stream",
     "text": [
      "1.0\n"
     ]
    }
   ],
   "source": [
    "print(np.log(2.718281828459045))"
   ]
  },
  {
   "cell_type": "markdown",
   "id": "e747b869-3cc2-4029-abe8-96b3680260dd",
   "metadata": {},
   "source": [
    "#### 计算指定底的N次幂 power"
   ]
  },
  {
   "cell_type": "code",
   "execution_count": 162,
   "id": "6578d901-d791-4401-bcf3-ffad394ff159",
   "metadata": {},
   "outputs": [
    {
     "name": "stdout",
     "output_type": "stream",
     "text": [
      "arr的3次方： [  8  27 125]\n"
     ]
    }
   ],
   "source": [
    "arr = np.array([2,3,5])\n",
    "print('arr的3次方：', np.power(arr, 3))"
   ]
  },
  {
   "cell_type": "markdown",
   "id": "0eb35463-19c4-4eac-8a83-383bbd4559b8",
   "metadata": {},
   "source": [
    "#### 四舍五入"
   ]
  },
  {
   "cell_type": "code",
   "execution_count": 163,
   "id": "7986c7e3-58b7-4eec-a986-a00dac278e95",
   "metadata": {},
   "outputs": [
    {
     "name": "stdout",
     "output_type": "stream",
     "text": [
      "arr四舍五入： [ 23.  32.  57. 100.]\n"
     ]
    }
   ],
   "source": [
    "arr = np.array([23.1, 32.5, 56.7, 99.8])\n",
    "print('arr四舍五入：',np.round(arr))"
   ]
  },
  {
   "cell_type": "markdown",
   "id": "2a00317a-37e0-4991-ba4b-79a5b193150d",
   "metadata": {},
   "source": [
    "#### 正弦余弦函数"
   ]
  },
  {
   "cell_type": "code",
   "execution_count": 164,
   "id": "ae62f4d3-e75d-4874-9df2-941a9699ba9e",
   "metadata": {},
   "outputs": [
    {
     "name": "stdout",
     "output_type": "stream",
     "text": [
      "计算180度的正弦 1.2246467991473532e-16\n",
      "计算90度的正弦： 1.0\n",
      "计算60度的余弦： 0.5000000000000001\n",
      "计算30度的正弦 0.49999999999999994\n"
     ]
    }
   ],
   "source": [
    "print('计算180度的正弦', np.sin(np.pi))\n",
    "print('计算90度的正弦：', np.sin(np.pi/2))\n",
    "print('计算60度的余弦：', np.cos(np.pi/3))\n",
    "print('计算30度的正弦', np.sin(np.pi/6))"
   ]
  },
  {
   "cell_type": "markdown",
   "id": "1cc5916f-9740-45a7-9488-28fe75511ce2",
   "metadata": {},
   "source": [
    "#### 求绝对值"
   ]
  },
  {
   "cell_type": "code",
   "execution_count": 10,
   "id": "28d7176f-8395-4ea4-9083-020e331c4599",
   "metadata": {},
   "outputs": [
    {
     "name": "stdout",
     "output_type": "stream",
     "text": [
      "arr的绝对值 [2 3 0 7 9]\n"
     ]
    }
   ],
   "source": [
    "arr = np.array([-2,3,0,-7,9])\n",
    "print('arr的绝对值', np.abs(arr))"
   ]
  },
  {
   "cell_type": "markdown",
   "id": "3e0911ba-c697-49dc-b093-d54c6de929aa",
   "metadata": {},
   "source": [
    "#### 向上取整ceil 向下取整floor"
   ]
  },
  {
   "cell_type": "code",
   "execution_count": 23,
   "id": "ac2de3ea-e017-492e-ada5-72806f9049da",
   "metadata": {},
   "outputs": [
    {
     "name": "stdout",
     "output_type": "stream",
     "text": [
      "arr向上取整： [ 24.  33.  57. 100.]\n",
      "arr向下取整： [23. 32. 56. 99.]\n"
     ]
    }
   ],
   "source": [
    "arr = np.array([23.1, 32.5, 56.7, 99.8])\n",
    "print('arr向上取整：', np.ceil(arr))\n",
    "print('arr向下取整：', np.floor(arr))"
   ]
  },
  {
   "cell_type": "markdown",
   "id": "53994af2-00d1-482d-b0d9-f8c7bceda7e9",
   "metadata": {},
   "source": [
    "### 8.numpy统计函数"
   ]
  },
  {
   "cell_type": "markdown",
   "id": "a06190a6-ef10-4e05-90f1-2c030dca1bc6",
   "metadata": {},
   "source": [
    "#### 平均值"
   ]
  },
  {
   "cell_type": "code",
   "execution_count": 160,
   "id": "b5870569-beab-449f-bcaf-deb1cd6446e0",
   "metadata": {},
   "outputs": [
    {
     "name": "stdout",
     "output_type": "stream",
     "text": [
      "[ 5 16 17  8 18]\n",
      "平均值: 12.8\n",
      "加权平均值: 13.666666666666666\n"
     ]
    }
   ],
   "source": [
    "np.random.seed(5)\n",
    "arr = np.random.randint(2,20, 5)\n",
    "print(arr)\n",
    "print('平均值:', np.mean(arr))\n",
    "'''\n",
    "最后一个元素的权重是2 weight = [1,1,1,1,2]\n",
    "'''\n",
    "weight = [1,1,1,1,2]\n",
    "print('加权平均值:', np.average(arr, weights=weight))"
   ]
  },
  {
   "cell_type": "markdown",
   "id": "e9261ee6-6e57-4f8a-aaa3-0ae5c1ccd618",
   "metadata": {},
   "source": [
    "#### 中位数"
   ]
  },
  {
   "cell_type": "code",
   "execution_count": 156,
   "id": "05108133-cd93-4187-929f-1cd6c33b9185",
   "metadata": {},
   "outputs": [
    {
     "name": "stdout",
     "output_type": "stream",
     "text": [
      "中位数: 16.0\n"
     ]
    }
   ],
   "source": [
    "'''\n",
    "对于奇数个位数，中位数的下标就是 (n-1)/2\n",
    "对于偶数个位数，中位数的值等于下标为 (n-2)/ + n/2 的和然后求平均值\n",
    "'''\n",
    "print('中位数:', np.median(arr))"
   ]
  },
  {
   "cell_type": "markdown",
   "id": "ac612d00-5804-4710-b054-8902dcf8a292",
   "metadata": {},
   "source": [
    "#### 标准差、方差"
   ]
  },
  {
   "cell_type": "code",
   "execution_count": 158,
   "id": "53d7e37b-89c1-475d-8390-a6bd2250181a",
   "metadata": {},
   "outputs": [
    {
     "name": "stdout",
     "output_type": "stream",
     "text": [
      "方差: 27.76\n",
      "标准差: 5.2687759489277965\n",
      "对方差开根号: 5.2687759489277965\n"
     ]
    }
   ],
   "source": [
    "'''\n",
    "每一项和平局值求差，然后再对差值平方，最后对平方后的差值求平局值\n",
    "针对上面的arr : ( (12.8-5)^2 + (12.8-16)^2 + (12.8-17)^2 + (12.8-8)^2 + (12.8-18)^2 ) / 2\n",
    "'''\n",
    "print('方差:', np.var(arr))\n",
    "'''\n",
    "针对方差进行开根号\n",
    "'''\n",
    "print('标准差:', np.std(arr))\n",
    "print('对方差开根号:', np.sqrt(27.76))\n"
   ]
  },
  {
   "cell_type": "markdown",
   "id": "305389d2-8553-4102-bcdc-9d05ed5c5987",
   "metadata": {},
   "source": [
    "#### 最大值、最小值、极差"
   ]
  },
  {
   "cell_type": "code",
   "execution_count": 128,
   "id": "c96913d9-307d-41dc-85d5-a59bdf4e9904",
   "metadata": {},
   "outputs": [
    {
     "name": "stdout",
     "output_type": "stream",
     "text": [
      "最大值: 18\n",
      "最小值: 5\n",
      "最大值-最小值： 13\n",
      "极差: 13\n"
     ]
    }
   ],
   "source": [
    "print('最大值:', np.max(arr))\n",
    "print('最小值:', np.min(arr))\n",
    "print('最大值-最小值：', np.max(arr) - np.min(arr))\n",
    "'''\n",
    "极差就是最大值-最小值\n",
    "'''\n",
    "print('极差:',np.ptp(arr))"
   ]
  },
  {
   "cell_type": "markdown",
   "id": "41866303-59db-46f7-b2bf-552517cc0788",
   "metadata": {},
   "source": [
    "#### 计算第n个百分数"
   ]
  },
  {
   "cell_type": "code",
   "execution_count": 135,
   "id": "190959fc-9e07-4d86-a1c5-773bff5ae8f4",
   "metadata": {},
   "outputs": [
    {
     "name": "stdout",
     "output_type": "stream",
     "text": [
      "计算第n个百分数: 16.0\n"
     ]
    }
   ],
   "source": [
    "print('计算第n个百分数:', np.percentile(arr, 50) ) # 50%时等同于中位数"
   ]
  },
  {
   "cell_type": "markdown",
   "id": "c1b3ffdf-cf5a-4f5e-9c53-431955d5a697",
   "metadata": {},
   "source": [
    "#### 计算分位数"
   ]
  },
  {
   "cell_type": "code",
   "execution_count": 159,
   "id": "befc02d2-6ac4-4e25-832a-fd85129ea76f",
   "metadata": {},
   "outputs": [
    {
     "name": "stdout",
     "output_type": "stream",
     "text": [
      "计算分位数: 5\n"
     ]
    }
   ],
   "source": [
    "print('计算分位数:', np.quantile(arr, 0) ) # 与percentile类似，但是范围是 0-1"
   ]
  },
  {
   "cell_type": "markdown",
   "id": "4782413d-f5f6-45e4-adbb-f280ac7a8e68",
   "metadata": {},
   "source": [
    "#### 最大值下表、最小值下标"
   ]
  },
  {
   "cell_type": "code",
   "execution_count": 153,
   "id": "bb8a6f0e-ad78-4a92-95ab-4c4e1ae19d03",
   "metadata": {},
   "outputs": [
    {
     "name": "stdout",
     "output_type": "stream",
     "text": [
      "最大值下标： 4\n",
      "最小值下标： 0\n"
     ]
    }
   ],
   "source": [
    "print('最大值下标：', np.argmax(arr) )\n",
    "print('最小值下标：', np.argmin(arr) )"
   ]
  },
  {
   "cell_type": "markdown",
   "id": "2605c409-0030-49c0-92ef-472093270ce7",
   "metadata": {},
   "source": [
    "### 9.比较函数"
   ]
  },
  {
   "cell_type": "markdown",
   "id": "ee721678-7e11-4562-bb16-df1415ec66f4",
   "metadata": {},
   "source": [
    "#### 大于、小于、等于"
   ]
  },
  {
   "cell_type": "code",
   "execution_count": 187,
   "id": "53576958-0b40-4ada-8ae4-f8e64b049692",
   "metadata": {},
   "outputs": [
    {
     "name": "stdout",
     "output_type": "stream",
     "text": [
      "[11  4  9  1 11]\n",
      "大于： [ True False  True False  True]\n",
      "小于： [False  True False  True False]\n",
      "等于： [ True False False False  True]\n"
     ]
    }
   ],
   "source": [
    "np.random.seed(3)\n",
    "arr = np.random.randint(1,20, 5)\n",
    "print(arr)\n",
    "print('大于：', np.greater(arr, 8))\n",
    "print('小于：', np.less(arr, 5))\n",
    "print('等于：', np.equal(arr, 11))"
   ]
  },
  {
   "cell_type": "markdown",
   "id": "d27e23c2-677d-4386-b3f0-5490efca2875",
   "metadata": {},
   "source": [
    "#### 与、或、非"
   ]
  },
  {
   "cell_type": "code",
   "execution_count": 207,
   "id": "72321e86-2624-4dad-b5b0-c9217c1fae2c",
   "metadata": {},
   "outputs": [
    {
     "name": "stdout",
     "output_type": "stream",
     "text": [
      "[ 4 14  7  7  1]\n",
      "判断元素都为真： [ True  True  True  True  True]\n",
      "判断元素有一个为真： [ True  True  True  True  True]\n",
      "对元素取反： [False False False False False]\n"
     ]
    }
   ],
   "source": [
    "np.random.seed(5)\n",
    "arr = np.random.randint(1,15, 5)\n",
    "print(arr)\n",
    "print('判断元素都为真：', np.logical_and(arr, 1))\n",
    "print('判断元素有一个为真：', np.logical_or(arr, 0))\n",
    "print('对元素取反：', np.logical_not(arr))"
   ]
  },
  {
   "cell_type": "markdown",
   "id": "f242d028-cbce-40be-b9ed-d4689306f422",
   "metadata": {},
   "source": [
    "#### 检查元素至少一个为真"
   ]
  },
  {
   "cell_type": "code",
   "execution_count": 228,
   "id": "38e73e4a-be2d-4bd8-afe6-1f905e062872",
   "metadata": {},
   "outputs": [
    {
     "name": "stdout",
     "output_type": "stream",
     "text": [
      "[ 5  2 13 11  8]\n",
      "至少一个元素为真 True\n"
     ]
    }
   ],
   "source": [
    "arr = np.random.randint(0,15, 5)\n",
    "print( arr)\n",
    "print('至少一个元素为真:', np.any(arr))"
   ]
  },
  {
   "cell_type": "markdown",
   "id": "c49b4f88-2040-4ad1-a246-5bc28010f536",
   "metadata": {},
   "source": [
    "#### 检查所有元素为真"
   ]
  },
  {
   "cell_type": "code",
   "execution_count": 244,
   "id": "ecb1ac93-76b4-4a85-97a8-e09d4030d266",
   "metadata": {},
   "outputs": [
    {
     "name": "stdout",
     "output_type": "stream",
     "text": [
      "[3 1 4 2 3 4]\n",
      "所有元素为真： True\n"
     ]
    }
   ],
   "source": [
    "arr = np.random.randint(0,10, 6)\n",
    "print(arr)\n",
    "print('所有元素为真：', np.all(arr))"
   ]
  },
  {
   "cell_type": "markdown",
   "id": "7421af02-ae61-432d-8a06-064c9e8955db",
   "metadata": {},
   "source": [
    "#### where条件"
   ]
  },
  {
   "cell_type": "code",
   "execution_count": 265,
   "id": "d9d1b82b-a2de-4015-801f-8b83af6c8062",
   "metadata": {},
   "outputs": [
    {
     "name": "stdout",
     "output_type": "stream",
     "text": [
      "[15  4 25 22  3 19 23]\n",
      "返回满足条件的下标： (array([0, 2, 3, 5, 6]),)\n",
      "返回满足条件的元素： [15 25 22 19 23]\n",
      "三元运算： [15  0 25 22  0 19 23]\n"
     ]
    }
   ],
   "source": [
    "np.random.seed(7)\n",
    "arr = np.random.randint(0,30, 7)\n",
    "print(arr)\n",
    "print('返回满足条件的下标：',  np.where(arr>10))\n",
    "print('返回满足条件的元素：',  arr[np.where(arr>10)])\n",
    "print('三元运算：', np.where(arr > 10, arr, 0) )"
   ]
  },
  {
   "cell_type": "markdown",
   "id": "b0a5473b-0a38-4372-b3cc-badd841a9647",
   "metadata": {},
   "source": [
    "#### select条件"
   ]
  },
  {
   "cell_type": "code",
   "execution_count": 276,
   "id": "fe1af262-6496-4c14-8afa-89eeb8de6044",
   "metadata": {},
   "outputs": [
    {
     "name": "stdout",
     "output_type": "stream",
     "text": [
      "成绩等级: ['B' 'C' 'A' 'D' 'F' 'C' 'B' 'A' 'F']\n"
     ]
    }
   ],
   "source": [
    "# 成绩等级评定\n",
    "grades = np.array([88, 72, 95, 63, 45, 78, 82, 91, 57])\n",
    "\n",
    "grade_conditions = [\n",
    "    grades >= 90,\n",
    "    grades >= 80,\n",
    "    grades >= 70,\n",
    "    grades >= 60,\n",
    "    grades < 60\n",
    "]\n",
    "\n",
    "grade_letters = ['A', 'B', 'C', 'D', 'F']\n",
    "\n",
    "result = np.select(grade_conditions, grade_letters, default='H')\n",
    "\n",
    "print(\"成绩等级:\", result)\n",
    "# ['B' 'C' 'A' 'D' 'F' 'C' 'B' 'A' 'D']"
   ]
  },
  {
   "cell_type": "code",
   "execution_count": 279,
   "id": "fcab208e-2149-4728-8e0a-fe9f5f512b40",
   "metadata": {},
   "outputs": [
    {
     "name": "stdout",
     "output_type": "stream",
     "text": [
      "二维数组分类:\n",
      "[['low' 'medium' 'high']\n",
      " ['low' 'high' 'medium']\n",
      " ['high' 'medium' 'high']]\n"
     ]
    }
   ],
   "source": [
    "# 示例3：二维数组\n",
    "arr_2d = np.array([\n",
    "    [1, 5, 9],\n",
    "    [2, 8, 4],\n",
    "    [7, 3, 6]\n",
    "])\n",
    "\n",
    "conditions = [\n",
    "    arr_2d < 3,\n",
    "    (arr_2d >= 3) & (arr_2d < 6),\n",
    "    arr_2d >= 6\n",
    "]\n",
    "\n",
    "choices = [\n",
    "    'low',\n",
    "    'medium', \n",
    "    'high'\n",
    "]\n",
    "\n",
    "result = np.select(conditions, choices, default='Non')\n",
    "print(\"二维数组分类:\")\n",
    "print(result)\n",
    "# [['low' 'high' 'high']\n",
    "#  ['low' 'high' 'medium']\n",
    "#  ['high' 'medium' 'high']]"
   ]
  },
  {
   "cell_type": "code",
   "execution_count": 282,
   "id": "7f6afe6d-0e3f-48f8-a282-951f26d0dc6c",
   "metadata": {},
   "outputs": [
    {
     "name": "stdout",
     "output_type": "stream",
     "text": [
      "直接使用条件数组并设置默认值： ['le3' 'le3' 'gr3' 'gr3' 'gr3' 'gr3']\n"
     ]
    }
   ],
   "source": [
    "arr = np.array([1,3,4,5,8,9])\n",
    "print('直接使用条件数组并设置默认值：',np.select([arr>3, arr<=3], ['gr3','le3'], default='Non'))"
   ]
  },
  {
   "cell_type": "markdown",
   "id": "96e23af3-914f-4e10-a961-c30f017b7432",
   "metadata": {},
   "source": [
    "### 排序函数、连接函数"
   ]
  },
  {
   "cell_type": "code",
   "execution_count": 293,
   "id": "1fedc334-010e-45de-b7b9-46d9ddd80b45",
   "metadata": {},
   "outputs": [
    {
     "name": "stdout",
     "output_type": "stream",
     "text": [
      "[44 47 64 67 67  9 83 21]\n",
      "numpy排序： [ 9 21 44 47 64 67 67 83]\n",
      "numpy排序下标： [5 7 0 1 2 3 4 6]\n"
     ]
    }
   ],
   "source": [
    "np.random.seed(0)\n",
    "arr = np.random.randint(0,100, 8)\n",
    "print(arr)\n",
    "# arr.sort() # 这种操作会直接修改原来的数组\n",
    "# print(arr)\n",
    "print('numpy排序：', np.sort(arr))\n",
    "print('numpy排序下标：', np.argsort(arr))"
   ]
  },
  {
   "cell_type": "code",
   "execution_count": 341,
   "id": "607ad2a9-cbb1-4242-b3d0-c8d86a975829",
   "metadata": {},
   "outputs": [
    {
     "name": "stdout",
     "output_type": "stream",
     "text": [
      "[26 10 46 49 27 35]\n",
      "[18 34 51 30 53 58]\n",
      "数组的连接： [26 10 46 49 27 35 18 34 51 30 53 58]\n"
     ]
    }
   ],
   "source": [
    "arr1 = np.random.randint(0,50, 6)\n",
    "arr2 = np.random.randint(0,100, 6)\n",
    "print(arr1)\n",
    "print(arr2)\n",
    "result = np.concatenate([arr1, arr2])\n",
    "print('一维数组的拼接：', result)"
   ]
  },
  {
   "cell_type": "code",
   "execution_count": 349,
   "id": "78a81bff-82f2-4b44-a874-27594dec6df3",
   "metadata": {},
   "outputs": [
    {
     "name": "stdout",
     "output_type": "stream",
     "text": [
      "arr1: [[24 25]]\n",
      "arr2: [[61 67]]\n",
      "二维数组垂直拼接： [[24 25]\n",
      " [61 67]]\n",
      "二维数组水平拼接 [[24 25 61 67]]\n"
     ]
    }
   ],
   "source": [
    "arr1 = np.random.randint(15,30, (1,2))\n",
    "arr2 = np.random.randint(35,100, (1,2))\n",
    "print('arr1:',arr1)\n",
    "print('arr2:',arr2)\n",
    "print('二维数组垂直拼接：', np.concatenate([arr1,arr2], axis=0))\n",
    "print('二维数组水平拼接', np.concatenate([arr1,arr2], axis=1))"
   ]
  },
  {
   "cell_type": "code",
   "execution_count": 366,
   "id": "202e191f-d716-4929-a228-b8308f08ab5e",
   "metadata": {},
   "outputs": [
    {
     "name": "stdout",
     "output_type": "stream",
     "text": [
      "原数组的维度: 1\n",
      "原数组的大小: 12\n",
      "变形成2行6列 [[ 1  2  4  5  6  7]\n",
      " [ 8  9 14 25 32 33]]\n",
      "变形成3行4列 [[ 1  2  4  5]\n",
      " [ 6  7  8  9]\n",
      " [14 25 32 33]]\n",
      "变形为三维数组： [[[ 1  2]\n",
      "  [ 4  5]\n",
      "  [ 6  7]]\n",
      "\n",
      " [[ 8  9]\n",
      "  [14 25]\n",
      "  [32 33]]]\n"
     ]
    }
   ],
   "source": [
    "arr = np.array([1,2,4,5,6,7,8,9,14,25,32,33])\n",
    "print('原数组的维度:', arr.ndim)\n",
    "print('原数组的大小:', arr.size)\n",
    "print('变形成2行6列', arr.reshape(2,6))\n",
    "print('变形成3行4列', arr.reshape(3,4))\n",
    "'''\n",
    "注意变形后的数组个数需要个原数组个数一致，否则会报错误\n",
    "'''\n",
    "print('变形为三维数组：', arr.reshape(2,3,2))"
   ]
  }
 ],
 "metadata": {
  "kernelspec": {
   "display_name": "Python 3 (ipykernel)",
   "language": "python",
   "name": "python3"
  },
  "language_info": {
   "codemirror_mode": {
    "name": "ipython",
    "version": 3
   },
   "file_extension": ".py",
   "mimetype": "text/x-python",
   "name": "python",
   "nbconvert_exporter": "python",
   "pygments_lexer": "ipython3",
   "version": "3.10.12"
  }
 },
 "nbformat": 4,
 "nbformat_minor": 5
}
